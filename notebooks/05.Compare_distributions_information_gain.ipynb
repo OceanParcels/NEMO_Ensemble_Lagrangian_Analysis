{
 "cells": [
  {
   "cell_type": "code",
   "execution_count": 1,
   "metadata": {},
   "outputs": [],
   "source": [
    "import numpy as np\n",
    "import matplotlib.pyplot as plt\n",
    "import xarray as xr\n",
    "import cartopy\n",
    "from tqdm import tqdm\n",
    "from sklearn.neighbors import KernelDensity"
   ]
  },
  {
   "cell_type": "markdown",
   "metadata": {},
   "source": [
    "## 1. Select the Ginea-Pig (Ensemble Member #23)"
   ]
  },
  {
   "cell_type": "code",
   "execution_count": 4,
   "metadata": {},
   "outputs": [],
   "source": [
    "pset_23 = xr.open_zarr('/storage/shared/oceanparcels/output_data/data_Claudio/NEMO_Ensemble/2011/PGS_2011_023.zarr')"
   ]
  },
  {
   "cell_type": "code",
   "execution_count": 5,
   "metadata": {},
   "outputs": [],
   "source": [
    "# Extract the coordinates of the particles at diffferent depths\n",
    "level_indexes = {}\n",
    "dz = 100\n",
    "n_levels = 16\n",
    "\n",
    "for i in range(n_levels):\n",
    "    level_indexes[i*dz] = pset_23.trajectory[i::n_levels]"
   ]
  },
  {
   "cell_type": "code",
   "execution_count": 6,
   "metadata": {},
   "outputs": [],
   "source": [
    "p23 = pset_23.isel(trajectory=level_indexes[100])"
   ]
  },
  {
   "cell_type": "markdown",
   "metadata": {},
   "source": [
    "## 2. Function to get indexes of neighbour particles"
   ]
  },
  {
   "cell_type": "code",
   "execution_count": 7,
   "metadata": {},
   "outputs": [],
   "source": [
    "def neighbour_particles(pset, lon, lat, delta_deg):\n",
    "    \"\"\"\n",
    "    Function to find the particles in a certain radius around a point\n",
    "    pset: xarray dataset with the particle data\n",
    "    lon: longitude of the point\n",
    "    lat: latitude of the point\n",
    "    delta_deg: radius around the point in degrees\n",
    "    \n",
    "    Returns: the indexes of the particles in the radius around the point\n",
    "    \"\"\"\n",
    "    \n",
    "    lon_conditional = np.logical_and(pset.lon[:,0]>=lon-delta_deg, pset.lon[:,0]<=lon + delta_deg)\n",
    "    lat_conditional = np.logical_and(pset.lat[:,0]>=lat-delta_deg, pset.lat[:,0]<=lat + delta_deg)\n",
    "    s = np.where(np.logical_and(lon_conditional, lat_conditional))[0]\n",
    "    return s"
   ]
  },
  {
   "cell_type": "markdown",
   "metadata": {},
   "source": [
    "## 3. Build Dataset $\\forall$ members"
   ]
  },
  {
   "cell_type": "markdown",
   "metadata": {},
   "source": []
  }
 ],
 "metadata": {
  "kernelspec": {
   "display_name": "nemo-ensemble",
   "language": "python",
   "name": "python3"
  },
  "language_info": {
   "codemirror_mode": {
    "name": "ipython",
    "version": 3
   },
   "file_extension": ".py",
   "mimetype": "text/x-python",
   "name": "python",
   "nbconvert_exporter": "python",
   "pygments_lexer": "ipython3",
   "version": "3.12.2"
  }
 },
 "nbformat": 4,
 "nbformat_minor": 2
}
