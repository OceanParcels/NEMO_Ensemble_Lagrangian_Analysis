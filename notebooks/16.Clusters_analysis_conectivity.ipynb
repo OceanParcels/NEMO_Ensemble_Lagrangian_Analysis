{
 "cells": [
  {
   "cell_type": "code",
   "execution_count": 1,
   "metadata": {},
   "outputs": [
    {
     "name": "stderr",
     "output_type": "stream",
     "text": [
      "/nethome/6525954/.conda/envs/nemo-ensemble/lib/python3.12/site-packages/h3/unstable/__init__.py:4: UserWarning: Modules under `h3.unstable` are experimental, and may change at any time.\n",
      "  warnings.warn(\n"
     ]
    }
   ],
   "source": [
    "import numpy as np\n",
    "import matplotlib.pyplot as plt\n",
    "import xarray as xr\n",
    "import cartopy\n",
    "from tqdm import tqdm\n",
    "# import pickle\n",
    "\n",
    "import sys\n",
    "sys.path.append('../functions')\n",
    "import hexbin_functions as hexfunc"
   ]
  },
  {
   "cell_type": "code",
   "execution_count": 2,
   "metadata": {},
   "outputs": [],
   "source": [
    "def entropy(Pdf):\n",
    "    # Pdf = Pdf / np.nansum(Pdf)  # Normalize Pdf to sum to 1, ignoring NaNs\n",
    "    # Replace zeros with a very small number to avoid log(0)\n",
    "    Pdf_safe = np.where(Pdf > 0, Pdf, np.finfo(float).eps)\n",
    "    return -np.nansum(Pdf_safe * np.log(Pdf_safe))\n",
    "\n",
    "def information(Pdf):\n",
    "    Pdf_safe = np.where(Pdf > 0, Pdf, np.finfo(float).eps)\n",
    "    return - Pdf_safe * np.log2(Pdf_safe)\n",
    "\n",
    "def Shannon_entropy(Pdf):\n",
    "    # Pdf = Pdf / np.nansum(Pdf)  # Normalize Pdf to sum to 1, ignoring NaNs\n",
    "    # Replace zeros with a very small number to avoid log(0)\n",
    "    Pdf_safe = np.where(Pdf > 0, Pdf, np.finfo(float).eps)\n",
    "    return -np.nansum(Pdf_safe * np.log2(Pdf_safe))"
   ]
  },
  {
   "cell_type": "code",
   "execution_count": null,
   "metadata": {},
   "outputs": [],
   "source": []
  }
 ],
 "metadata": {
  "kernelspec": {
   "display_name": "nemo-ensemble",
   "language": "python",
   "name": "python3"
  },
  "language_info": {
   "codemirror_mode": {
    "name": "ipython",
    "version": 3
   },
   "file_extension": ".py",
   "mimetype": "text/x-python",
   "name": "python",
   "nbconvert_exporter": "python",
   "pygments_lexer": "ipython3",
   "version": "3.12.2"
  }
 },
 "nbformat": 4,
 "nbformat_minor": 2
}
