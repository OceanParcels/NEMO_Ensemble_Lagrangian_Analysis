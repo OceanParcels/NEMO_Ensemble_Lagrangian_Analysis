{
 "cells": [
  {
   "cell_type": "code",
   "execution_count": 1,
   "id": "99d9275c-4352-42ee-ba7c-67b30f9f9ba0",
   "metadata": {},
   "outputs": [],
   "source": [
    "from parcels import FieldSet, ParticleSet, AdvectionRK4_3D, AdvectionRK4, ParticleFile, JITParticle, ErrorCode, StateCode\n",
    "import numpy as np\n",
    "import xarray as xr\n",
    "from glob import glob\n",
    "from datetime import timedelta as delta\n",
    "import matplotlib.pyplot as plt"
   ]
  },
  {
   "cell_type": "code",
   "execution_count": 2,
   "id": "2367b200-572e-4244-beb9-30bc11fe22d4",
   "metadata": {},
   "outputs": [],
   "source": [
    "member = 3\n",
    "\n",
    "data_path = '/storage/shared/oceanparcels/input_data/NEMO_Ensemble/'\n",
    "ufiles = sorted(glob(f\"{data_path}NATL025-CJMCYC3.{member:03d}-S/1d/2010/NATL025*U.nc\"))\n",
    "vfiles = [f.replace('U.nc', 'V.nc') for f in ufiles]\n",
    "wfiles = [f.replace('U.nc', 'W.nc') for f in ufiles]\n",
    "mesh_mask = f\"{data_path}GRID/coordinates_NATL025_v2.nc\"\n",
    "maskfile = f\"{data_path}GRID/NATL025-CJMenobs01_byte_mask.nc\"\n",
    "\n",
    "filenames = {'U': {'lon': mesh_mask, 'lat': mesh_mask, 'depth': wfiles[0], 'data': ufiles},\n",
    "             'V': {'lon': mesh_mask, 'lat': mesh_mask, 'depth': wfiles[0], 'data': vfiles},\n",
    "             'W': {'lon': mesh_mask, 'lat': mesh_mask, 'depth': wfiles[0], 'data': wfiles},\n",
    "             'mask': {'lon': mesh_mask, 'lat': mesh_mask, 'depth': wfiles[0], 'data': maskfile}}\n",
    "variables = {'U': 'vozocrtx', 'V': 'vomecrty', 'W': 'vovecrtz', 'mask': 'fmask'}\n",
    "dimensions = {'U': {'lon': 'glamf', 'lat': 'gphif', 'depth': 'depthw', 'time': 'time_counter'},\n",
    "              'V': {'lon': 'glamf', 'lat': 'gphif', 'depth': 'depthw', 'time': 'time_counter'},\n",
    "              'W': {'lon': 'glamf', 'lat': 'gphif', 'depth': 'depthw', 'time': 'time_counter'},\n",
    "              'mask': {'lon': 'glamf', 'lat': 'gphif', 'depth': 'depthw'}}\n",
    "\n",
    "fieldset = FieldSet.from_nemo(filenames, variables, dimensions, netcdf_decodewarning=False)"
   ]
  },
  {
   "cell_type": "code",
   "execution_count": 16,
   "id": "090219ca-2def-4d0d-a83f-35ee7daf8208",
   "metadata": {},
   "outputs": [
    {
     "name": "stderr",
     "output_type": "stream",
     "text": [
      "INFO: Compiled ArrayJITParticleRemoveLandPoints ==> /tmp/parcels-24236/lib9e06933c531e7ef8150e830a9a90f05e_0.so\n"
     ]
    },
    {
     "data": {
      "image/png": "[encoded data removed]",
      "text/plain": [
       "<Figure size 432x288 with 1 Axes>"
      ]
     },
     "metadata": {
      "needs_background": "light"
     },
     "output_type": "display_data"
    },
    {
     "name": "stdout",
     "output_type": "stream",
     "text": [
      "3000 0\n"
     ]
    }
   ],
   "source": [
    "dx, dz = 0.05, 20\n",
    "\n",
    "\n",
    "X = np.arange(-81.5, -78.5, dx)\n",
    "Y = 26.7*np.ones(X.shape)\n",
    "Z = np.ones(X.shape)\n",
    "pset = ParticleSet(fieldset, JITParticle, lon=X, lat=Y, depth=Z*dz/2)\n",
    "\n",
    "# for z in np.arange(dz*1.5, 5000+dz/2, dz):\n",
    "#     pset.add(ParticleSet(fieldset, JITParticle, lon=X, lat=Y, depth=z*Z))\n",
    "\n",
    "def RemoveLandPoints(particle, fieldset, time):\n",
    "    m = fieldset.mask[0, particle.depth, particle.lat, particle.lon]\n",
    "    if math.fabs(m) < 0.9:\n",
    "        particle.delete()\n",
    "\n",
    "pset.execute(RemoveLandPoints, dt=0)\n",
    "\n",
    "pset._collection._pclass.setLastID(0)\n",
    "\n",
    "times = np.arange(np.datetime64('2010-01-02'), np.datetime64('2010-01-31'), np.timedelta64(6, 'h'))\n",
    "\n",
    "lonp = [p.lon for p in pset]\n",
    "latp = [p.lat for p in pset]\n",
    "depp = [p.depth for p in pset]\n",
    "\n",
    "\n",
    "pset = ParticleSet(fieldset, JITParticle, lon=lonp, lat=latp, depth=depp, time=times[0])\n",
    "for t in times[1:]:\n",
    "    pset.add(ParticleSet(fieldset, JITParticle, lon=lonp, lat=latp, depth=depp, time=t))\n",
    "\n",
    "\n",
    "plt.plot(pset.lon, pset.depth, '.')\n",
    "plt.show()\n",
    "print(len(pset), pset[0].id)"
   ]
  },
  {
   "cell_type": "code",
   "execution_count": 20,
   "id": "6ea9aa5a-ac4a-4722-aaf8-7bc73197c60b",
   "metadata": {},
   "outputs": [
    {
     "name": "stdout",
     "output_type": "stream",
     "text": [
      "58320\n"
     ]
    },
    {
     "data": {
      "text/plain": [
       "[<matplotlib.lines.Line2D at 0x7f919d049a00>]"
      ]
     },
     "execution_count": 20,
     "metadata": {},
     "output_type": "execute_result"
    },
    {
     "data": {
      "image/png": "[encoded data removed]",
      "text/plain": [
       "<Figure size 432x288 with 1 Axes>"
      ]
     },
     "metadata": {
      "needs_background": "light"
     },
     "output_type": "display_data"
    }
   ],
   "source": [
    "lonp = -75\n",
    "latp = 30\n",
    "depthp = 1\n",
    "\n",
    "times = np.arange(np.datetime64('2000-01-01'), np.datetime64('2000-01-31'), np.timedelta64(1, 'h'))\n",
    "pset = ParticleSet(fieldset, JITParticle, lon=lonp*np.ones(len(times)), lat=latp*np.ones(len(times)), \n",
    "                   depth=np.ones(len(times)), time=times)\n",
    "len(pset)\n",
    "\n",
    "for r in np.arange(0.05, 0.51, 0.05):\n",
    "    for theta in np.arange(0, 2*np.pi, np.pi/4):\n",
    "        pset.add(ParticleSet(fieldset, JITParticle, lon=lonp*np.ones(len(times))+np.sin(theta)*r, \n",
    "                             lat=latp*np.ones(len(times))+np.cos(theta)*r, \n",
    "                             depth=np.ones(len(times)), time=times))\n",
    "print(len(pset))\n",
    "\n",
    "plt.plot(pset.lon, pset.lat, '.')"
   ]
  },
  {
   "cell_type": "code",
   "execution_count": null,
   "id": "c8dd2519-803f-4246-ad81-6c3eafb89ef6",
   "metadata": {},
   "outputs": [],
   "source": [
    "def SubmergeParticle(particle, fieldset, time):\n",
    "        particle.depth = 0\n",
    "        AdvectionRK4(particle, fieldset, time)  # perform a 2D advection because vertical flow will always push up in this case\n",
    "        particle.time = time + particle.dt  # to not trigger kernels again, otherwise infinite loop\n",
    "        particle.set_state(StateCode.Success)"
   ]
  },
  {
   "cell_type": "code",
   "execution_count": null,
   "id": "16d631fb-9830-4690-9f9f-5a5343895c0c",
   "metadata": {},
   "outputs": [],
   "source": [
    "outfile = f\"Pensemble_{member:03d}.zarr\"\n",
    "pfile = ParticleFile(outfile, pset, outputdt=delta(days=1))\n",
    "pset.execute(AdvectionRK4_3D, dt=delta(hours=1), output_file=pfile, \n",
    "             recovery={ErrorCode.ErrorThroughSurface: SubmergeParticle})"
   ]
  },
  {
   "cell_type": "code",
   "execution_count": null,
   "id": "7941a7ed-2321-4c34-9c5f-556274eff68a",
   "metadata": {},
   "outputs": [],
   "source": [
    "ds = xr.open_zarr('Pensemble_003.zarr/')"
   ]
  },
  {
   "cell_type": "code",
   "execution_count": null,
   "id": "f155158f-ba69-4297-bbfd-4a33522f3e9b",
   "metadata": {},
   "outputs": [],
   "source": [
    "pset._collection._pclass.lastID"
   ]
  },
  {
   "cell_type": "code",
   "execution_count": null,
   "id": "f96055fc-aacf-4e59-b503-d3a1ad952b1c",
   "metadata": {},
   "outputs": [],
   "source": [
    "xr.open_dataset(mesh_mask)"
   ]
  },
  {
   "cell_type": "code",
   "execution_count": null,
   "id": "83c3a80f-690e-41a1-a2a8-4f20bbae625c",
   "metadata": {},
   "outputs": [],
   "source": [
    "fieldset.W.depth[0]"
   ]
  },
  {
   "cell_type": "code",
   "execution_count": null,
   "id": "4bc97406-9e00-4638-880c-1695c98ecd5a",
   "metadata": {},
   "outputs": [
    {
     "data": {
      "text/plain": [
       "P[0](lon=-49.000000, lat=0.000000, depth=1.000000, time=2635200.000000)"
      ]
     },
     "execution_count": 8,
     "metadata": {},
     "output_type": "execute_result"
    }
   ],
   "source": []
  }
 ],
 "metadata": {
  "kernelspec": {
   "display_name": "Python 3 (ipykernel)",
   "language": "python",
   "name": "python3"
  },
  "language_info": {
   "codemirror_mode": {
    "name": "ipython",
    "version": 3
   },
   "file_extension": ".py",
   "mimetype": "text/x-python",
   "name": "python",
   "nbconvert_exporter": "python",
   "pygments_lexer": "ipython3",
   "version": "3.8.11"
  }
 },
 "nbformat": 4,
 "nbformat_minor": 5
}
